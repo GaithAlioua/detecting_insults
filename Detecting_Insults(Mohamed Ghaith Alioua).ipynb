{
 "cells": [
  {
   "cell_type": "markdown",
   "metadata": {
    "id": "vLmQa9SrDE--"
   },
   "source": [
    "# Detecting Insults in Social Commentary"
   ]
  },
  {
   "cell_type": "markdown",
   "metadata": {
    "id": "UbOPPKAzDhKv"
   },
   "source": [
    "## 1. Business Understanding"
   ]
  },
  {
   "cell_type": "markdown",
   "metadata": {
    "id": "jyl817AvE2k-"
   },
   "source": [
    "### 1.1 Project description"
   ]
  },
  {
   "cell_type": "markdown",
   "metadata": {
    "id": "jyl817AvE2k-"
   },
   "source": [
    "Analyzing data and detecting if a sentence contains insults, profanity, racial slurs, or any offensive words"
   ]
  },
  {
   "cell_type": "markdown",
   "metadata": {
    "id": "fXt9SeC1E8Cq"
   },
   "source": [
    "### 1.2 Project objectives"
   ]
  },
  {
   "cell_type": "markdown",
   "metadata": {
    "id": "fXt9SeC1E8Cq"
   },
   "source": [
    "- Detect whether comments in my dataset contain insults or not\n",
    "- Analyze and visualize the data"
   ]
  },
  {
   "cell_type": "markdown",
   "metadata": {
    "id": "VgcvG3LzDjwa"
   },
   "source": [
    "## 2. Data Understanding"
   ]
  },
  {
   "cell_type": "markdown",
   "metadata": {
    "id": "nx-hrXNnFbIH"
   },
   "source": [
    "### 2.1. Importing the data"
   ]
  },
  {
   "cell_type": "code",
   "execution_count": 1,
   "metadata": {},
   "outputs": [],
   "source": [
    "import pandas\n",
    "\n",
    "data = pandas.read_csv('OneDrive/Desktop/DetectingInsults/train.csv')"
   ]
  },
  {
   "cell_type": "markdown",
   "metadata": {
    "id": "rpgUZeQtFrKs"
   },
   "source": [
    "### 2.2. Data exploration"
   ]
  },
  {
   "cell_type": "code",
   "execution_count": 2,
   "metadata": {},
   "outputs": [
    {
     "data": {
      "text/html": [
       "<div>\n",
       "<style scoped>\n",
       "    .dataframe tbody tr th:only-of-type {\n",
       "        vertical-align: middle;\n",
       "    }\n",
       "\n",
       "    .dataframe tbody tr th {\n",
       "        vertical-align: top;\n",
       "    }\n",
       "\n",
       "    .dataframe thead th {\n",
       "        text-align: right;\n",
       "    }\n",
       "</style>\n",
       "<table border=\"1\" class=\"dataframe\">\n",
       "  <thead>\n",
       "    <tr style=\"text-align: right;\">\n",
       "      <th></th>\n",
       "      <th>Insult</th>\n",
       "      <th>Date</th>\n",
       "      <th>Comment</th>\n",
       "    </tr>\n",
       "  </thead>\n",
       "  <tbody>\n",
       "    <tr>\n",
       "      <th>0</th>\n",
       "      <td>1</td>\n",
       "      <td>20120618192155Z</td>\n",
       "      <td>\"You fuck your dad.\"</td>\n",
       "    </tr>\n",
       "    <tr>\n",
       "      <th>1</th>\n",
       "      <td>0</td>\n",
       "      <td>20120528192215Z</td>\n",
       "      <td>\"i really don't understand your point.\\xa0 It ...</td>\n",
       "    </tr>\n",
       "    <tr>\n",
       "      <th>2</th>\n",
       "      <td>0</td>\n",
       "      <td>NaN</td>\n",
       "      <td>\"A\\\\xc2\\\\xa0majority of Canadians can and has ...</td>\n",
       "    </tr>\n",
       "    <tr>\n",
       "      <th>3</th>\n",
       "      <td>0</td>\n",
       "      <td>NaN</td>\n",
       "      <td>\"listen if you dont wanna get married to a man...</td>\n",
       "    </tr>\n",
       "    <tr>\n",
       "      <th>4</th>\n",
       "      <td>0</td>\n",
       "      <td>20120619094753Z</td>\n",
       "      <td>\"C\\xe1c b\\u1ea1n xu\\u1ed1ng \\u0111\\u01b0\\u1edd...</td>\n",
       "    </tr>\n",
       "    <tr>\n",
       "      <th>5</th>\n",
       "      <td>0</td>\n",
       "      <td>20120620171226Z</td>\n",
       "      <td>\"@SDL OK, but I would hope they'd sign him to ...</td>\n",
       "    </tr>\n",
       "    <tr>\n",
       "      <th>6</th>\n",
       "      <td>0</td>\n",
       "      <td>20120503012628Z</td>\n",
       "      <td>\"Yeah and where are you now?\"</td>\n",
       "    </tr>\n",
       "    <tr>\n",
       "      <th>7</th>\n",
       "      <td>1</td>\n",
       "      <td>NaN</td>\n",
       "      <td>\"shut the fuck up. you and the rest of your fa...</td>\n",
       "    </tr>\n",
       "    <tr>\n",
       "      <th>8</th>\n",
       "      <td>1</td>\n",
       "      <td>20120502173553Z</td>\n",
       "      <td>\"Either you are fake or extremely stupid...may...</td>\n",
       "    </tr>\n",
       "    <tr>\n",
       "      <th>9</th>\n",
       "      <td>1</td>\n",
       "      <td>20120620160512Z</td>\n",
       "      <td>\"That you are an idiot who understands neither...</td>\n",
       "    </tr>\n",
       "    <tr>\n",
       "      <th>10</th>\n",
       "      <td>0</td>\n",
       "      <td>20120620015140Z</td>\n",
       "      <td>\"@jdstorm dont wish him injury but it happened...</td>\n",
       "    </tr>\n",
       "    <tr>\n",
       "      <th>11</th>\n",
       "      <td>0</td>\n",
       "      <td>20120530044519Z</td>\n",
       "      <td>\"Be careful,Jimbo.OG has a fork with your name...</td>\n",
       "    </tr>\n",
       "    <tr>\n",
       "      <th>12</th>\n",
       "      <td>0</td>\n",
       "      <td>NaN</td>\n",
       "      <td>\"@tonnyb  Or they just don't pay attention \"</td>\n",
       "    </tr>\n",
       "    <tr>\n",
       "      <th>13</th>\n",
       "      <td>0</td>\n",
       "      <td>NaN</td>\n",
       "      <td>\"Hmmm. Perhaps some who are too pig-faced to g...</td>\n",
       "    </tr>\n",
       "    <tr>\n",
       "      <th>14</th>\n",
       "      <td>0</td>\n",
       "      <td>NaN</td>\n",
       "      <td>\"@barrettmarson Huh? Her income was $21,912. H...</td>\n",
       "    </tr>\n",
       "    <tr>\n",
       "      <th>15</th>\n",
       "      <td>1</td>\n",
       "      <td>20120611090207Z</td>\n",
       "      <td>\"FOR SOME REASON U SOUND RETARDED. LOL. DAMN. ...</td>\n",
       "    </tr>\n",
       "    <tr>\n",
       "      <th>16</th>\n",
       "      <td>1</td>\n",
       "      <td>20120320162532Z</td>\n",
       "      <td>\"You with the 'racist' screen name\\n\\nYou are ...</td>\n",
       "    </tr>\n",
       "    <tr>\n",
       "      <th>17</th>\n",
       "      <td>0</td>\n",
       "      <td>NaN</td>\n",
       "      <td>\"Oh! &amp; cheating as well...1966 cup was a cheat...</td>\n",
       "    </tr>\n",
       "    <tr>\n",
       "      <th>18</th>\n",
       "      <td>1</td>\n",
       "      <td>20120320075347Z</td>\n",
       "      <td>\"your such a dickhead...\"</td>\n",
       "    </tr>\n",
       "    <tr>\n",
       "      <th>19</th>\n",
       "      <td>1</td>\n",
       "      <td>20120320203947Z</td>\n",
       "      <td>\"Your a retard go post your head up your #%&amp;*\"</td>\n",
       "    </tr>\n",
       "    <tr>\n",
       "      <th>20</th>\n",
       "      <td>0</td>\n",
       "      <td>20120612051612Z</td>\n",
       "      <td>\"@EephusBlue\\xa0Makes you want to say \"Mike Ma...</td>\n",
       "    </tr>\n",
       "    <tr>\n",
       "      <th>21</th>\n",
       "      <td>0</td>\n",
       "      <td>20120611234235Z</td>\n",
       "      <td>\"http://www.youtube.com/watch?v=tLYLLPHKRU4\"</td>\n",
       "    </tr>\n",
       "    <tr>\n",
       "      <th>22</th>\n",
       "      <td>0</td>\n",
       "      <td>20120502215304Z</td>\n",
       "      <td>\"And you know they've burned holes in all the ...</td>\n",
       "    </tr>\n",
       "    <tr>\n",
       "      <th>23</th>\n",
       "      <td>0</td>\n",
       "      <td>20120503031721Z</td>\n",
       "      <td>\"you are a land creature. You would drown....\"</td>\n",
       "    </tr>\n",
       "    <tr>\n",
       "      <th>24</th>\n",
       "      <td>0</td>\n",
       "      <td>NaN</td>\n",
       "      <td>\"To all those doom-and-gloomers, the chicken-l...</td>\n",
       "    </tr>\n",
       "    <tr>\n",
       "      <th>25</th>\n",
       "      <td>0</td>\n",
       "      <td>20120612144331Z</td>\n",
       "      <td>\"Craig, we have been saying from the start tha...</td>\n",
       "    </tr>\n",
       "    <tr>\n",
       "      <th>26</th>\n",
       "      <td>0</td>\n",
       "      <td>20120529025329Z</td>\n",
       "      <td>\"Strange you are talking about that when there...</td>\n",
       "    </tr>\n",
       "    <tr>\n",
       "      <th>27</th>\n",
       "      <td>0</td>\n",
       "      <td>20120612052926Z</td>\n",
       "      <td>\"But how would you actually get the key out?\"</td>\n",
       "    </tr>\n",
       "    <tr>\n",
       "      <th>28</th>\n",
       "      <td>0</td>\n",
       "      <td>20120528193950Z</td>\n",
       "      <td>\"oh cool, some more internet points for your c...</td>\n",
       "    </tr>\n",
       "    <tr>\n",
       "      <th>29</th>\n",
       "      <td>0</td>\n",
       "      <td>20120529230121Z</td>\n",
       "      <td>\"Even though I think there are better coaches ...</td>\n",
       "    </tr>\n",
       "    <tr>\n",
       "      <th>30</th>\n",
       "      <td>0</td>\n",
       "      <td>20120611201838Z</td>\n",
       "      <td>\"russellpiano\\xa0\\nHmmmm...how can we spin Oba...</td>\n",
       "    </tr>\n",
       "    <tr>\n",
       "      <th>31</th>\n",
       "      <td>0</td>\n",
       "      <td>20120529115214Z</td>\n",
       "      <td>\"A good article, which, for all the good it wi...</td>\n",
       "    </tr>\n",
       "    <tr>\n",
       "      <th>32</th>\n",
       "      <td>0</td>\n",
       "      <td>NaN</td>\n",
       "      <td>\"Head's up warning...another source of funding...</td>\n",
       "    </tr>\n",
       "    <tr>\n",
       "      <th>33</th>\n",
       "      <td>0</td>\n",
       "      <td>20120620055647Z</td>\n",
       "      <td>\"@sdnoriko LOL as if Capcom listens. Watch the...</td>\n",
       "    </tr>\n",
       "    <tr>\n",
       "      <th>34</th>\n",
       "      <td>1</td>\n",
       "      <td>20120515132156Z</td>\n",
       "      <td>\"Allinit123, your\\xa0hypocrisy\\xa0is sickening...</td>\n",
       "    </tr>\n",
       "    <tr>\n",
       "      <th>35</th>\n",
       "      <td>0</td>\n",
       "      <td>20120620011710Z</td>\n",
       "      <td>\"Fast &amp; furious didn't work out like they plan...</td>\n",
       "    </tr>\n",
       "    <tr>\n",
       "      <th>36</th>\n",
       "      <td>0</td>\n",
       "      <td>20120530111709Z</td>\n",
       "      <td>\"mitt isn't the best candidate for president.....</td>\n",
       "    </tr>\n",
       "    <tr>\n",
       "      <th>37</th>\n",
       "      <td>1</td>\n",
       "      <td>20120620161958Z</td>\n",
       "      <td>\"I can't believe the stupid people on this sit...</td>\n",
       "    </tr>\n",
       "    <tr>\n",
       "      <th>38</th>\n",
       "      <td>1</td>\n",
       "      <td>20120609163743Z</td>\n",
       "      <td>\"fucking behave then you prick!\"</td>\n",
       "    </tr>\n",
       "    <tr>\n",
       "      <th>39</th>\n",
       "      <td>0</td>\n",
       "      <td>20120619094846Z</td>\n",
       "      <td>\"The only \"other\" relevant fact is that HE IS ...</td>\n",
       "    </tr>\n",
       "    <tr>\n",
       "      <th>40</th>\n",
       "      <td>0</td>\n",
       "      <td>20120609175446Z</td>\n",
       "      <td>\"You are a liar.\"</td>\n",
       "    </tr>\n",
       "    <tr>\n",
       "      <th>41</th>\n",
       "      <td>1</td>\n",
       "      <td>20120620075045Z</td>\n",
       "      <td>\"Is that it??  your sum total to any conversat...</td>\n",
       "    </tr>\n",
       "    <tr>\n",
       "      <th>42</th>\n",
       "      <td>0</td>\n",
       "      <td>20120619231647Z</td>\n",
       "      <td>\"@beanstalk @briview Welp then NBW right?\"</td>\n",
       "    </tr>\n",
       "    <tr>\n",
       "      <th>43</th>\n",
       "      <td>0</td>\n",
       "      <td>20120620024445Z</td>\n",
       "      <td>\"Good job, fellas. I didn't quite read the rul...</td>\n",
       "    </tr>\n",
       "    <tr>\n",
       "      <th>44</th>\n",
       "      <td>0</td>\n",
       "      <td>NaN</td>\n",
       "      <td>\"I say hang is ass in the center of the town t...</td>\n",
       "    </tr>\n",
       "    <tr>\n",
       "      <th>45</th>\n",
       "      <td>1</td>\n",
       "      <td>20120619074710Z</td>\n",
       "      <td>\"faggot\"</td>\n",
       "    </tr>\n",
       "    <tr>\n",
       "      <th>46</th>\n",
       "      <td>0</td>\n",
       "      <td>20120529201852Z</td>\n",
       "      <td>\"You right if you are relaxe then you can give...</td>\n",
       "    </tr>\n",
       "    <tr>\n",
       "      <th>47</th>\n",
       "      <td>1</td>\n",
       "      <td>20120529130844Z</td>\n",
       "      <td>\"Aimless Abe you are a delusion weirdo that sh...</td>\n",
       "    </tr>\n",
       "    <tr>\n",
       "      <th>48</th>\n",
       "      <td>0</td>\n",
       "      <td>20120610150536Z</td>\n",
       "      <td>\"That, I do not doubt...\\n\\n....as a Blackberr...</td>\n",
       "    </tr>\n",
       "    <tr>\n",
       "      <th>49</th>\n",
       "      <td>0</td>\n",
       "      <td>20120530023429Z</td>\n",
       "      <td>\"OKC should work out a deal to get a PG who pl...</td>\n",
       "    </tr>\n",
       "  </tbody>\n",
       "</table>\n",
       "</div>"
      ],
      "text/plain": [
       "    Insult             Date                                            Comment\n",
       "0        1  20120618192155Z                               \"You fuck your dad.\"\n",
       "1        0  20120528192215Z  \"i really don't understand your point.\\xa0 It ...\n",
       "2        0              NaN  \"A\\\\xc2\\\\xa0majority of Canadians can and has ...\n",
       "3        0              NaN  \"listen if you dont wanna get married to a man...\n",
       "4        0  20120619094753Z  \"C\\xe1c b\\u1ea1n xu\\u1ed1ng \\u0111\\u01b0\\u1edd...\n",
       "5        0  20120620171226Z  \"@SDL OK, but I would hope they'd sign him to ...\n",
       "6        0  20120503012628Z                      \"Yeah and where are you now?\"\n",
       "7        1              NaN  \"shut the fuck up. you and the rest of your fa...\n",
       "8        1  20120502173553Z  \"Either you are fake or extremely stupid...may...\n",
       "9        1  20120620160512Z  \"That you are an idiot who understands neither...\n",
       "10       0  20120620015140Z  \"@jdstorm dont wish him injury but it happened...\n",
       "11       0  20120530044519Z  \"Be careful,Jimbo.OG has a fork with your name...\n",
       "12       0              NaN       \"@tonnyb  Or they just don't pay attention \"\n",
       "13       0              NaN  \"Hmmm. Perhaps some who are too pig-faced to g...\n",
       "14       0              NaN  \"@barrettmarson Huh? Her income was $21,912. H...\n",
       "15       1  20120611090207Z  \"FOR SOME REASON U SOUND RETARDED. LOL. DAMN. ...\n",
       "16       1  20120320162532Z  \"You with the 'racist' screen name\\n\\nYou are ...\n",
       "17       0              NaN  \"Oh! & cheating as well...1966 cup was a cheat...\n",
       "18       1  20120320075347Z                          \"your such a dickhead...\"\n",
       "19       1  20120320203947Z     \"Your a retard go post your head up your #%&*\"\n",
       "20       0  20120612051612Z  \"@EephusBlue\\xa0Makes you want to say \"Mike Ma...\n",
       "21       0  20120611234235Z       \"http://www.youtube.com/watch?v=tLYLLPHKRU4\"\n",
       "22       0  20120502215304Z  \"And you know they've burned holes in all the ...\n",
       "23       0  20120503031721Z     \"you are a land creature. You would drown....\"\n",
       "24       0              NaN  \"To all those doom-and-gloomers, the chicken-l...\n",
       "25       0  20120612144331Z  \"Craig, we have been saying from the start tha...\n",
       "26       0  20120529025329Z  \"Strange you are talking about that when there...\n",
       "27       0  20120612052926Z      \"But how would you actually get the key out?\"\n",
       "28       0  20120528193950Z  \"oh cool, some more internet points for your c...\n",
       "29       0  20120529230121Z  \"Even though I think there are better coaches ...\n",
       "30       0  20120611201838Z  \"russellpiano\\xa0\\nHmmmm...how can we spin Oba...\n",
       "31       0  20120529115214Z  \"A good article, which, for all the good it wi...\n",
       "32       0              NaN  \"Head's up warning...another source of funding...\n",
       "33       0  20120620055647Z  \"@sdnoriko LOL as if Capcom listens. Watch the...\n",
       "34       1  20120515132156Z  \"Allinit123, your\\xa0hypocrisy\\xa0is sickening...\n",
       "35       0  20120620011710Z  \"Fast & furious didn't work out like they plan...\n",
       "36       0  20120530111709Z  \"mitt isn't the best candidate for president.....\n",
       "37       1  20120620161958Z  \"I can't believe the stupid people on this sit...\n",
       "38       1  20120609163743Z                   \"fucking behave then you prick!\"\n",
       "39       0  20120619094846Z  \"The only \"other\" relevant fact is that HE IS ...\n",
       "40       0  20120609175446Z                                  \"You are a liar.\"\n",
       "41       1  20120620075045Z  \"Is that it??  your sum total to any conversat...\n",
       "42       0  20120619231647Z         \"@beanstalk @briview Welp then NBW right?\"\n",
       "43       0  20120620024445Z  \"Good job, fellas. I didn't quite read the rul...\n",
       "44       0              NaN  \"I say hang is ass in the center of the town t...\n",
       "45       1  20120619074710Z                                           \"faggot\"\n",
       "46       0  20120529201852Z  \"You right if you are relaxe then you can give...\n",
       "47       1  20120529130844Z  \"Aimless Abe you are a delusion weirdo that sh...\n",
       "48       0  20120610150536Z  \"That, I do not doubt...\\n\\n....as a Blackberr...\n",
       "49       0  20120530023429Z  \"OKC should work out a deal to get a PG who pl..."
      ]
     },
     "execution_count": 2,
     "metadata": {},
     "output_type": "execute_result"
    }
   ],
   "source": [
    "data.head(50)"
   ]
  },
  {
   "cell_type": "markdown",
   "metadata": {
    "id": "TfLgiTjiFyGX"
   },
   "source": [
    "### 2.2.1 Columns description"
   ]
  },
  {
   "cell_type": "markdown",
   "metadata": {},
   "source": [
    "- Insults: It can be either 1 or 0 (Some of these comments are not accurately marked. eg: 44)\n",
    "    0: No insult detected in the comment\n",
    "    1: Insult detected in the comment\n",
    "- Date: The date the comment was made --> iN THE FORMAT \"YYYYMMDDhhmmssZ\"\n",
    "- Comment: The sentence itself which may or may not contain insults"
   ]
  },
  {
   "cell_type": "markdown",
   "metadata": {
    "id": "MPvrX77NDnrl"
   },
   "source": [
    "## 3. Data preparation and pre-processing"
   ]
  },
  {
   "cell_type": "markdown",
   "metadata": {
    "id": "Td_lfCsiHNDv"
   },
   "source": [
    "### 3.1. Data cleaning"
   ]
  },
  {
   "cell_type": "code",
   "execution_count": 11,
   "metadata": {},
   "outputs": [
    {
     "data": {
      "text/html": [
       "<div>\n",
       "<style scoped>\n",
       "    .dataframe tbody tr th:only-of-type {\n",
       "        vertical-align: middle;\n",
       "    }\n",
       "\n",
       "    .dataframe tbody tr th {\n",
       "        vertical-align: top;\n",
       "    }\n",
       "\n",
       "    .dataframe thead th {\n",
       "        text-align: right;\n",
       "    }\n",
       "</style>\n",
       "<table border=\"1\" class=\"dataframe\">\n",
       "  <thead>\n",
       "    <tr style=\"text-align: right;\">\n",
       "      <th></th>\n",
       "      <th>Insult</th>\n",
       "      <th>Date</th>\n",
       "      <th>Comment</th>\n",
       "    </tr>\n",
       "  </thead>\n",
       "  <tbody>\n",
       "    <tr>\n",
       "      <th>277</th>\n",
       "      <td>1</td>\n",
       "      <td>20120529025307Z</td>\n",
       "      <td>\"haha...atleast get your insults straight you ...</td>\n",
       "    </tr>\n",
       "    <tr>\n",
       "      <th>1271</th>\n",
       "      <td>0</td>\n",
       "      <td>NaN</td>\n",
       "      <td>\"All that hatred inside of you must have eaten...</td>\n",
       "    </tr>\n",
       "    <tr>\n",
       "      <th>2528</th>\n",
       "      <td>0</td>\n",
       "      <td>20120529100821Z</td>\n",
       "      <td>\"Yep, it's pretty std with liberals. \\xa0When ...</td>\n",
       "    </tr>\n",
       "    <tr>\n",
       "      <th>2764</th>\n",
       "      <td>0</td>\n",
       "      <td>20120620045051Z</td>\n",
       "      <td>\"joseywhales, thank you kindly for proving my ...</td>\n",
       "    </tr>\n",
       "    <tr>\n",
       "      <th>3239</th>\n",
       "      <td>0</td>\n",
       "      <td>20120529034620Z</td>\n",
       "      <td>\"I don't know what the insults are for,\\nI tho...</td>\n",
       "    </tr>\n",
       "  </tbody>\n",
       "</table>\n",
       "</div>"
      ],
      "text/plain": [
       "      Insult             Date  \\\n",
       "277        1  20120529025307Z   \n",
       "1271       0              NaN   \n",
       "2528       0  20120529100821Z   \n",
       "2764       0  20120620045051Z   \n",
       "3239       0  20120529034620Z   \n",
       "\n",
       "                                                Comment  \n",
       "277   \"haha...atleast get your insults straight you ...  \n",
       "1271  \"All that hatred inside of you must have eaten...  \n",
       "2528  \"Yep, it's pretty std with liberals. \\xa0When ...  \n",
       "2764  \"joseywhales, thank you kindly for proving my ...  \n",
       "3239  \"I don't know what the insults are for,\\nI tho...  "
      ]
     },
     "execution_count": 11,
     "metadata": {},
     "output_type": "execute_result"
    }
   ],
   "source": [
    "with open('OneDrive/Desktop/DetectingInsults/train.csv') as file:\n",
    "    # Create an empty dictionary to store insulting words and their descriptions\n",
    "    dictionary = {}\n",
    "    \n",
    "    # Iterate through each line in the file\n",
    "    for line in file:\n",
    "        # Split each line into two parts using a comma as a separator\n",
    "        parts = line.split(',')\n",
    "        \n",
    "        # Check if there are exactly two parts\n",
    "        if len(parts) == 2:\n",
    "            # Store the first part as the key and the second part as the value in the dictionary\n",
    "            key = parts[0]\n",
    "            value = parts[1].strip()  # Remove leading/trailing whitespaces\n",
    "            \n",
    "            dictionary[key] = value\n",
    "\n",
    "# Filter a DataFrame called 'df' to select rows where the 'Comment' column contains the substring \"insults\" (case-insensitive)\n",
    "filtered_data = data[data['Comment'].str.contains(\"insults\", na=True)]\n",
    "\n",
    "# Display the first few rows of the filtered DataFrame\n",
    "filtered_data.head()"
   ]
  },
  {
   "cell_type": "markdown",
   "metadata": {
    "id": "rDRhDWNRHVcV"
   },
   "source": [
    "### 3.2. Data visualization"
   ]
  },
  {
   "cell_type": "code",
   "execution_count": 4,
   "metadata": {},
   "outputs": [
    {
     "data": {
      "image/png": "[encoded data removed]",
      "text/plain": [
       "<Figure size 640x480 with 1 Axes>"
      ]
     },
     "metadata": {},
     "output_type": "display_data"
    }
   ],
   "source": [
    "from wordcloud import WordCloud\n",
    "import matplotlib.pyplot as plt\n",
    "import re\n",
    "\n",
    "# Get the 'Comment' column from the filtered data and convert it to a single string\n",
    "text = filtered_data['Comment'].to_string(index=False)\n",
    "\n",
    "# Process the text by substituting '\\s' (space characters) with a single space\n",
    "processed_text = re.sub(r'\\s', ' ', text)\n",
    "\n",
    "# Create an object wordcloud with settings of max and minimum word length to be used for the word cloud\n",
    "wordcloud = WordCloud(max_words=100, min_word_length=3).generate(processed_text)\n",
    "\n",
    "# Display the word cloud using Matplotlib\n",
    "plt.imshow(wordcloud, interpolation=\"bilinear\")\n",
    "\n",
    "# To remove axis labels\n",
    "plt.axis('off')\n",
    "\n",
    "plt.show()"
   ]
  },
  {
   "cell_type": "markdown",
   "metadata": {
    "id": "cukYeoFeIFhr"
   },
   "source": [
    "### 3.3 Data reduction"
   ]
  },
  {
   "cell_type": "markdown",
   "metadata": {
    "id": "DnvEuBstIInI"
   },
   "source": [
    "### 3.4 Data transformation"
   ]
  },
  {
   "cell_type": "markdown",
   "metadata": {
    "id": "PhT9dYaIDxCE"
   },
   "source": [
    "### 3.4. Feature selection"
   ]
  },
  {
   "cell_type": "code",
   "execution_count": null,
   "metadata": {
    "id": "h3JHzTfED4Ch"
   },
   "outputs": [],
   "source": []
  },
  {
   "cell_type": "markdown",
   "metadata": {
    "id": "o61jAHcsD4QY"
   },
   "source": [
    "## 4. Modeling"
   ]
  },
  {
   "cell_type": "code",
   "execution_count": null,
   "metadata": {
    "id": "VuLQVYNFD62V"
   },
   "outputs": [],
   "source": []
  },
  {
   "cell_type": "markdown",
   "metadata": {
    "id": "ARQ0Ih2mD7bc"
   },
   "source": [
    "## 5. Evaluation"
   ]
  },
  {
   "cell_type": "code",
   "execution_count": null,
   "metadata": {
    "id": "t5_tF4CpD9_W"
   },
   "outputs": [],
   "source": []
  },
  {
   "cell_type": "markdown",
   "metadata": {
    "id": "6nJnI7D-D-OB"
   },
   "source": [
    "## 6. Insights, Conclusions and Business recommendations"
   ]
  },
  {
   "cell_type": "code",
   "execution_count": null,
   "metadata": {
    "id": "gXjTvQGGECxn"
   },
   "outputs": [],
   "source": []
  },
  {
   "cell_type": "markdown",
   "metadata": {
    "id": "LhiMGJNaEaiK"
   },
   "source": [
    "## 7. Deployment"
   ]
  },
  {
   "cell_type": "code",
   "execution_count": null,
   "metadata": {
    "id": "vTIwArztEeAY"
   },
   "outputs": [],
   "source": []
  }
 ],
 "metadata": {
  "colab": {
   "provenance": []
  },
  "kernelspec": {
   "display_name": "Python 3 (ipykernel)",
   "language": "python",
   "name": "python3"
  },
  "language_info": {
   "codemirror_mode": {
    "name": "ipython",
    "version": 3
   },
   "file_extension": ".py",
   "mimetype": "text/x-python",
   "name": "python",
   "nbconvert_exporter": "python",
   "pygments_lexer": "ipython3",
   "version": "3.11.6"
  }
 },
 "nbformat": 4,
 "nbformat_minor": 4
}
